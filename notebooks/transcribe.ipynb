{
 "cells": [
  {
   "cell_type": "code",
   "execution_count": null,
   "metadata": {},
   "outputs": [],
   "source": [
    "from pydub import AudioSegment\n",
    "\n",
    "def chunk_mp4_file(input_file, chunk_length_ms):\n",
    "    # Load the audio file\n",
    "    audio = AudioSegment.from_file(input_file, format=\"mp4\")\n",
    "\n",
    "    # Calculate the number of chunks\n",
    "    total_length_ms = len(audio)\n",
    "    number_of_chunks = total_length_ms // chunk_length_ms + (1 if total_length_ms % chunk_length_ms else 0)\n",
    "\n",
    "    # Split and export each chunk\n",
    "    for i in range(number_of_chunks):\n",
    "        start_ms = i * chunk_length_ms\n",
    "        end_ms = min((i + 1) * chunk_length_ms, total_length_ms)\n",
    "        chunk = audio[start_ms:end_ms]\n",
    "        chunk.export(f\"{input_file}_chunk_{i}.mp4\", format=\"mp4\")\n",
    "\n",
    "    return number_of_chunks\n"
   ]
  },
  {
   "cell_type": "code",
   "execution_count": null,
   "metadata": {},
   "outputs": [],
   "source": [
    "num_chunks = chunk_mp4_file(\"./aws/AWS reInvent 2023 - Keynote with Dr Swami Sivasubramanian.mp4\", 20 * 60 * 1000)  # 20 minutes in milliseconds\n",
    "print(f\"total chunks created: {num_chunks}\")"
   ]
  },
  {
   "cell_type": "code",
   "execution_count": null,
   "metadata": {},
   "outputs": [],
   "source": [
    "from pydub import AudioSegment\n",
    "\n",
    "song = AudioSegment.from_file(\"./aws/AWS reInvent 2023 - Keynote with Dr Swami Sivasubramanian.mp4\")\n",
    "\n",
    "# PyDub handles time in milliseconds\n",
    "ten_minutes = 30 * 60 * 1000\n",
    "\n",
    "first_30_minutes = song[:ten_minutes]\n",
    "\n",
    "first_30_minutes.export(\"./aws/chunked/Adam_30mins.mp4\", format=\"mp4\")"
   ]
  }
 ],
 "metadata": {
  "kernelspec": {
   "display_name": ".venv",
   "language": "python",
   "name": "python3"
  },
  "language_info": {
   "codemirror_mode": {
    "name": "ipython",
    "version": 3
   },
   "file_extension": ".py",
   "mimetype": "text/x-python",
   "name": "python",
   "nbconvert_exporter": "python",
   "pygments_lexer": "ipython3",
   "version": "3.10.9"
  }
 },
 "nbformat": 4,
 "nbformat_minor": 2
}
