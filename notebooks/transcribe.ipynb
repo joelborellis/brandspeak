{
 "cells": [
  {
   "cell_type": "code",
   "execution_count": null,
   "metadata": {},
   "outputs": [],
   "source": [
    "from pydub import AudioSegment\n",
    "\n",
    "def chunk_mp4_file(input_file, chunk_length_ms):\n",
    "    # Load the audio file\n",
    "    audio = AudioSegment.from_file(input_file, format=\"mp4\")\n",
    "\n",
    "    # Calculate the number of chunks\n",
    "    total_length_ms = len(audio)\n",
    "    number_of_chunks = total_length_ms // chunk_length_ms + (1 if total_length_ms % chunk_length_ms else 0)\n",
    "\n",
    "    # Split and export each chunk\n",
    "    for i in range(number_of_chunks):\n",
    "        start_ms = i * chunk_length_ms\n",
    "        end_ms = min((i + 1) * chunk_length_ms, total_length_ms)\n",
    "        chunk = audio[start_ms:end_ms]\n",
    "        chunk.export(f\"{input_file}_chunk_{i}.mp4\", format=\"mp4\")\n",
    "\n",
    "    return number_of_chunks\n"
   ]
  },
  {
   "cell_type": "code",
   "execution_count": null,
   "metadata": {},
   "outputs": [],
   "source": [
    "num_chunks = chunk_mp4_file(\"./oracle/Building the more intelligent future of cloud Clay Magouyrk keynote  Oracle CloudWorld 2023.mp4\", 20 * 60 * 1000)  # 20 minutes in milliseconds\n",
    "print(f\"total chunks created: {num_chunks}\")"
   ]
  },
  {
   "cell_type": "code",
   "execution_count": null,
   "metadata": {},
   "outputs": [],
   "source": [
    "import whisper\n",
    "\n",
    "def transcribe_mp4_files(file_list, output_file):\n",
    "    # Initialize the Whisper model\n",
    "    model = whisper.load_model(\"base\")\n",
    "\n",
    "    # Open the output file for writing the transcriptions\n",
    "    with open(output_file, \"w\", encoding=\"utf-8\") as output:\n",
    "        # Loop through each file and transcribe\n",
    "        for file in file_list:\n",
    "            result = model.transcribe(file)\n",
    "            transcription = result[\"text\"]\n",
    "            \n",
    "            # Write the transcription to the output file\n",
    "            output.write(transcription + \"\\n\\n\")\n"
   ]
  },
  {
   "cell_type": "code",
   "execution_count": null,
   "metadata": {},
   "outputs": [],
   "source": [
    "import os\n",
    "\n",
    "def list_files_with_full_path(directory_path):\n",
    "    \"\"\"\n",
    "    This function takes a directory path as input and returns a list of all files in that directory,\n",
    "    with each file path being the full path to the file.\n",
    "\n",
    "    :param directory_path: The path to the directory whose files need to be listed.\n",
    "    :return: A list of full file paths in the given directory.\n",
    "    \"\"\"\n",
    "    # Check if the directory exists\n",
    "    if not os.path.exists(directory_path):\n",
    "        return \"Directory does not exist.\"\n",
    "\n",
    "    # List all files in the directory with their full paths\n",
    "    full_file_paths = [os.path.join(directory_path, file).replace('\\\\', '/') for file in os.listdir(directory_path) if os.path.isfile(os.path.join(directory_path, file))]\n",
    "    return full_file_paths"
   ]
  },
  {
   "cell_type": "code",
   "execution_count": null,
   "metadata": {},
   "outputs": [],
   "source": [
    "file_list = list_files_with_full_path(\"./oracle\")\n",
    "#file_list\n",
    "transcribe_mp4_files(file_list, \"./oracle/transcripts/Building the more intelligent future of cloud Clay Magouyrk keynote  Oracle CloudWorld 2023.txt\")\n"
   ]
  }
 ],
 "metadata": {
  "kernelspec": {
   "display_name": ".venv",
   "language": "python",
   "name": "python3"
  },
  "language_info": {
   "codemirror_mode": {
    "name": "ipython",
    "version": 3
   },
   "file_extension": ".py",
   "mimetype": "text/x-python",
   "name": "python",
   "nbconvert_exporter": "python",
   "pygments_lexer": "ipython3",
   "version": "3.10.9"
  }
 },
 "nbformat": 4,
 "nbformat_minor": 2
}
