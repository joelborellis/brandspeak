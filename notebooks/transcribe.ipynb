{
 "cells": [
  {
   "cell_type": "code",
   "execution_count": null,
   "metadata": {},
   "outputs": [],
   "source": [
    "from pydub import AudioSegment\n",
    "\n",
    "song = AudioSegment.from_file(\"./aws/Adam.mp4\")\n",
    "\n",
    "# PyDub handles time in milliseconds\n",
    "ten_minutes = 30 * 60 * 1000\n",
    "\n",
    "first_30_minutes = song[:ten_minutes]\n",
    "\n",
    "first_30_minutes.export(\"./aws/chunked/Adam_30mins.mp4\", format=\"mp4\")"
   ]
  }
 ],
 "metadata": {
  "kernelspec": {
   "display_name": ".venv",
   "language": "python",
   "name": "python3"
  },
  "language_info": {
   "codemirror_mode": {
    "name": "ipython",
    "version": 3
   },
   "file_extension": ".py",
   "mimetype": "text/x-python",
   "name": "python",
   "nbconvert_exporter": "python",
   "pygments_lexer": "ipython3",
   "version": "3.10.9"
  }
 },
 "nbformat": 4,
 "nbformat_minor": 2
}
